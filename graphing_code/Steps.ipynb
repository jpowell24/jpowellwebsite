{
 "cells": [
  {
   "cell_type": "code",
   "execution_count": null,
   "metadata": {},
   "outputs": [],
   "source": [
    "import pandas as pd\n",
    "import numpy as np\n",
    "import matplotlib.pyplot as plt\n",
    "from matplotlib import rc\n",
    "\n",
    "color_list =[\"#3eb991\",\"#e9a820\",\"#e01563\",\"#edb196\",\"#6ecadc\",\"#1f94ac\",\"#ae9a6a\",\"#ccb8a6\",\"#343a44\"]"
   ]
  },
  {
   "cell_type": "code",
   "execution_count": null,
   "metadata": {},
   "outputs": [],
   "source": [
    "path = '/Users/jacksonpowell/Documents/GitHub/stokes/data_files/HeathData-Formatted.csv'\n",
    "df = pd.read_csv(path, header = None)"
   ]
  },
  {
   "cell_type": "code",
   "execution_count": null,
   "metadata": {},
   "outputs": [],
   "source": [
    "x = df[df.columns[0]]; \n",
    "y = df[df.columns[1]]; "
   ]
  },
  {
   "cell_type": "code",
   "execution_count": null,
   "metadata": {},
   "outputs": [],
   "source": [
    "rc('font', **{'family': 'serif', 'serif': ['Computer Modern']}); \n",
    "rc('text', usetex=True); \n",
    "\n",
    "\n",
    "plt.figure(figsize=(30,6)); \n",
    "\n",
    "plt.plot(x, y, marker = 'o', markersize = 3, color = color_list[0]); \n",
    "plt.xticks(rotation = 45, ha = 'right'); \n",
    "\n",
    "plt.xlabel(\"Date\", fontsize = 20); \n",
    "plt.ylabel(\"Step count\", fontsize = 20);  \n",
    "plt.title(\"Steps over the years (2015 - 2023)\", fontsize = 30)\n",
    "\n",
    "plt.grid(axis = \"y\"); \n",
    "\n",
    "plt.rcParams['savefig.dpi'] = 300; \n",
    "plt.savefig(f\"../random/steps\");   "
   ]
  }
 ],
 "metadata": {
  "kernelspec": {
   "display_name": "Python 3",
   "language": "python",
   "name": "python3"
  },
  "language_info": {
   "codemirror_mode": {
    "name": "ipython",
    "version": 3
   },
   "file_extension": ".py",
   "mimetype": "text/x-python",
   "name": "python",
   "nbconvert_exporter": "python",
   "pygments_lexer": "ipython3",
   "version": "3.9.6"
  }
 },
 "nbformat": 4,
 "nbformat_minor": 2
}
